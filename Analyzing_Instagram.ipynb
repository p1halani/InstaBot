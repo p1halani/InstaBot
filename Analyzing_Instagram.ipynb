{
  "nbformat": 4,
  "nbformat_minor": 0,
  "metadata": {
    "colab": {
      "name": "Analyzing Instagram3.ipynb",
      "provenance": [],
      "collapsed_sections": [],
      "authorship_tag": "ABX9TyMewAE35HYy1mFX7cMXl4Ca"
    },
    "kernelspec": {
      "name": "python3",
      "display_name": "Python 3"
    }
  },
  "cells": [
    {
      "cell_type": "code",
      "metadata": {
        "id": "YEBhBW3BcbQS",
        "colab_type": "code",
        "outputId": "1b4a26e0-b22b-48db-df5b-eac1f5b1cc1d",
        "colab": {
          "base_uri": "https://localhost:8080/",
          "height": 1000
        }
      },
      "source": [
        "!pip install InstagramApi"
      ],
      "execution_count": 0,
      "outputs": [
        {
          "output_type": "stream",
          "text": [
            "Collecting InstagramApi\n",
            "  Downloading https://files.pythonhosted.org/packages/15/6d/f7eba7679fb40acb33ac75960c1aff269c2a75b32aff106266c85e3c0b93/InstagramAPI-1.0.2.tar.gz\n",
            "Collecting requests==2.11.1\n",
            "\u001b[?25l  Downloading https://files.pythonhosted.org/packages/ea/03/92d3278bf8287c5caa07dbd9ea139027d5a3592b0f4d14abf072f890fab2/requests-2.11.1-py2.py3-none-any.whl (514kB)\n",
            "\u001b[K     |████████████████████████████████| 522kB 4.2MB/s \n",
            "\u001b[?25hCollecting requests-toolbelt==0.7.0\n",
            "\u001b[?25l  Downloading https://files.pythonhosted.org/packages/57/60/cc85ca45c85585191e70e21687aeaa74ec4e555a1404628ba77b8af7d92e/requests_toolbelt-0.7.0-py2.py3-none-any.whl (52kB)\n",
            "\u001b[K     |████████████████████████████████| 61kB 9.9MB/s \n",
            "\u001b[?25hCollecting moviepy==0.2.3.2\n",
            "\u001b[?25l  Downloading https://files.pythonhosted.org/packages/e4/1f/fb4b8d9397f7952fcb594cb5df3061f00debae7ea92b3be9881c18b905ab/moviepy-0.2.3.2-py2.py3-none-any.whl (122kB)\n",
            "\u001b[K     |████████████████████████████████| 133kB 54.6MB/s \n",
            "\u001b[?25hCollecting tqdm==4.11.2\n",
            "\u001b[?25l  Downloading https://files.pythonhosted.org/packages/b7/0d/174388e99e21ee2c91ea318994c3f8744e26158e43cff0ec9d045bf08a96/tqdm-4.11.2-py2.py3-none-any.whl (46kB)\n",
            "\u001b[K     |████████████████████████████████| 51kB 8.4MB/s \n",
            "\u001b[?25hCollecting decorator==4.0.11\n",
            "  Downloading https://files.pythonhosted.org/packages/00/cc/dd79ea98a0ff5a01d714c37eddd99cd0a71557113f1511921d1ef9a083b8/decorator-4.0.11-py2.py3-none-any.whl\n",
            "Collecting imageio==2.1.2\n",
            "\u001b[?25l  Downloading https://files.pythonhosted.org/packages/68/31/55cad23b6bd32afee6e4c7eec2f15266665879f8eaf812e3b843205d41ad/imageio-2.1.2.zip (3.3MB)\n",
            "\u001b[K     |████████████████████████████████| 3.3MB 56.0MB/s \n",
            "\u001b[?25hRequirement already satisfied: numpy in /usr/local/lib/python3.6/dist-packages (from moviepy==0.2.3.2->InstagramApi) (1.18.2)\n",
            "Requirement already satisfied: pillow in /usr/local/lib/python3.6/dist-packages (from imageio==2.1.2->moviepy==0.2.3.2->InstagramApi) (7.0.0)\n",
            "Building wheels for collected packages: InstagramApi, imageio\n",
            "  Building wheel for InstagramApi (setup.py) ... \u001b[?25l\u001b[?25hdone\n",
            "  Created wheel for InstagramApi: filename=InstagramAPI-1.0.2-cp36-none-any.whl size=14020 sha256=b7e6fc41f18a9a286037e2c462afec3dc8edf3a8f8e60cb3bdb244d3058e6c73\n",
            "  Stored in directory: /root/.cache/pip/wheels/6c/00/8f/ff713f248704d409ad2c2fc1352ce62b2b4d7d12a75267a911\n",
            "  Building wheel for imageio (setup.py) ... \u001b[?25l\u001b[?25hdone\n",
            "  Created wheel for imageio: filename=imageio-2.1.2-cp36-none-any.whl size=3248800 sha256=c547ccbbeb2a4482f39905ea6da6456f25b01ad1e8b190cc13b23a84eeafc801\n",
            "  Stored in directory: /root/.cache/pip/wheels/46/d7/61/fe435bf3dc20403ff38ffed213528ae710b4301ac6b403c582\n",
            "Successfully built InstagramApi imageio\n",
            "\u001b[31mERROR: tensorflow-datasets 2.1.0 has requirement requests>=2.19.0, but you'll have requests 2.11.1 which is incompatible.\u001b[0m\n",
            "\u001b[31mERROR: spacy 2.2.4 has requirement requests<3.0.0,>=2.13.0, but you'll have requests 2.11.1 which is incompatible.\u001b[0m\n",
            "\u001b[31mERROR: spacy 2.2.4 has requirement tqdm<5.0.0,>=4.38.0, but you'll have tqdm 4.11.2 which is incompatible.\u001b[0m\n",
            "\u001b[31mERROR: scikit-image 0.16.2 has requirement imageio>=2.3.0, but you'll have imageio 2.1.2 which is incompatible.\u001b[0m\n",
            "\u001b[31mERROR: networkx 2.4 has requirement decorator>=4.3.0, but you'll have decorator 4.0.11 which is incompatible.\u001b[0m\n",
            "\u001b[31mERROR: google-colab 1.0.0 has requirement requests~=2.21.0, but you'll have requests 2.11.1 which is incompatible.\u001b[0m\n",
            "\u001b[31mERROR: google-api-core 1.16.0 has requirement requests<3.0.0dev,>=2.18.0, but you'll have requests 2.11.1 which is incompatible.\u001b[0m\n",
            "\u001b[31mERROR: featuretools 0.4.1 has requirement tqdm>=4.19.2, but you'll have tqdm 4.11.2 which is incompatible.\u001b[0m\n",
            "\u001b[31mERROR: datascience 0.10.6 has requirement folium==0.2.1, but you'll have folium 0.8.3 which is incompatible.\u001b[0m\n",
            "\u001b[31mERROR: albumentations 0.1.12 has requirement imgaug<0.2.7,>=0.2.5, but you'll have imgaug 0.2.9 which is incompatible.\u001b[0m\n",
            "Installing collected packages: requests, requests-toolbelt, tqdm, decorator, imageio, moviepy, InstagramApi\n",
            "  Found existing installation: requests 2.21.0\n",
            "    Uninstalling requests-2.21.0:\n",
            "      Successfully uninstalled requests-2.21.0\n",
            "  Found existing installation: tqdm 4.38.0\n",
            "    Uninstalling tqdm-4.38.0:\n",
            "      Successfully uninstalled tqdm-4.38.0\n",
            "  Found existing installation: decorator 4.4.2\n",
            "    Uninstalling decorator-4.4.2:\n",
            "      Successfully uninstalled decorator-4.4.2\n",
            "  Found existing installation: imageio 2.4.1\n",
            "    Uninstalling imageio-2.4.1:\n",
            "      Successfully uninstalled imageio-2.4.1\n",
            "  Found existing installation: moviepy 0.2.3.5\n",
            "    Uninstalling moviepy-0.2.3.5:\n",
            "      Successfully uninstalled moviepy-0.2.3.5\n",
            "Successfully installed InstagramApi-1.0.2 decorator-4.0.11 imageio-2.1.2 moviepy-0.2.3.2 requests-2.11.1 requests-toolbelt-0.7.0 tqdm-4.11.2\n"
          ],
          "name": "stdout"
        },
        {
          "output_type": "display_data",
          "data": {
            "application/vnd.colab-display-data+json": {
              "pip_warning": {
                "packages": [
                  "decorator",
                  "requests",
                  "tqdm"
                ]
              }
            }
          },
          "metadata": {
            "tags": []
          }
        }
      ]
    },
    {
      "cell_type": "code",
      "metadata": {
        "id": "roXvXIIpgnIL",
        "colab_type": "code",
        "colab": {}
      },
      "source": [
        "from pandas.io.json import json_normalize"
      ],
      "execution_count": 0,
      "outputs": []
    },
    {
      "cell_type": "code",
      "metadata": {
        "id": "8sOPX-klch1U",
        "colab_type": "code",
        "colab": {}
      },
      "source": [
        "import pprint\n",
        "from time import sleep\n",
        "from InstagramAPI import InstagramAPI\n",
        "import pandas as pd\n",
        "\n",
        "\n",
        "users_list = []\n",
        "following_users = []\n",
        "follower_users = []\n",
        "\n",
        "class InstaBot:\n",
        "\n",
        "    def __init__(self):\n",
        "        self.api = InstagramAPI(\"Username\", \"Password\")\n",
        "        self.api.USER_AGENT = 'Instagram 10.34.0 Android (18/4.3; 320dpi; 720x1280; Xiaomi; HM 1SW; armani; qcom; en_US)'\n",
        "\n",
        "    def get_my_profile_details():\n",
        "        api.login() \n",
        "        api.getSelfUsernameInfo()\n",
        "        result = api.LastJson\n",
        "        username = result['user']['username']\n",
        "        full_name = result['user']['full_name']\n",
        "        profile_pic_url = result['user']['profile_pic_url']\n",
        "        followers = result['user']['follower_count']\n",
        "        following = result['user']['following_count']\n",
        "        media_count = result['user']['media_count']\n",
        "        df_profile = pd.DataFrame(\n",
        "            {'username':username,\n",
        "            'full name': full_name,\n",
        "            'profile picture URL':profile_pic_url,\n",
        "            'followers':followers,\n",
        "            'following':following,\n",
        "            'media count': media_count,\n",
        "            }, index=[0])\n",
        "        df_profile.to_csv('profile.csv', sep='\\t', encoding='utf-8')\n",
        "\n",
        "    def get_my_feed():\n",
        "        image_urls = []\n",
        "        api.login()\n",
        "        api.getSelfUserFeed()\n",
        "        result = api.LastJson\n",
        "        # formatted_json_str = pprint.pformat(result)\n",
        "        # print(formatted_json_str)\n",
        "        if 'items' in result.keys():\n",
        "            for item in result['items'][0:5]:\n",
        "                if 'image_versions2' in item.keys():\n",
        "                    image_url = item['image_versions2']['candidates'][1]['url']\n",
        "                    image_urls.append(image_url)\n",
        "\n",
        "        df_feed = pd.DataFrame({\n",
        "                    'image URL':image_urls\n",
        "                })\n",
        "        df_feed.to_csv('feed.csv', sep='\\t', encoding='utf-8')\n",
        "    \n",
        "    def get_likes_list(self,username):\n",
        "        api = self.api\n",
        "        api.login()\n",
        "        api.searchUsername(username) #Gets most recent post from user\n",
        "        result = api.LastJson\n",
        "        username_id = result['user']['pk']\n",
        "        user_posts = api.getUserFeed(username_id)\n",
        "        result = api.LastJson\n",
        "        media_id = result['items'][0]['id']\n",
        "\n",
        "        api.getMediaLikers(media_id)\n",
        "        users = api.LastJson['users']\n",
        "        for user in users:\n",
        "            users_list.append({'pk':user['pk'], 'username':user['username']})\n",
        "        bot.follow_users(users_list)\n",
        "\n",
        "\n",
        "    def follow_users(self,users_list):\n",
        "        api = self.api\n",
        "        api.login()\n",
        "        api.getSelfUsersFollowing()\n",
        "        result = api.LastJson\n",
        "        for user in result['users']:\n",
        "            following_users.append(user['pk'])\n",
        "        for user in users_list:\n",
        "            if not user['pk'] in following_users:\n",
        "                print('Following @' + user['username'])\n",
        "                api.follow(user['pk'])\n",
        "                # set this really long to avoid from suspension\n",
        "                # sleep(20)\n",
        "            else:\n",
        "                print('Already following @' + user['username'])\n",
        "                # sleep(10)\n",
        "\n",
        "    def get_posts_likers(self, my_posts):\n",
        "        '''Retrieve all likers on all posts'''\n",
        "        \n",
        "        likers = []\n",
        "        \n",
        "        print('wait %.1f minutes' % (len(my_posts)*2/60.))\n",
        "        for i in range(len(my_posts)):\n",
        "            m_id = my_posts[i]['id']\n",
        "            self.api.getMediaLikers(m_id)\n",
        "            \n",
        "            likers += [self.api.LastJson]\n",
        "            \n",
        "            # Include post_id in likers dict list\n",
        "            likers[i]['post_id'] = m_id\n",
        "            \n",
        "            #time.sleep(2)\n",
        "        print('done')\n",
        "        \n",
        "        return likers\n",
        "\n",
        "    def get_my_posts(self):\n",
        "        '''Retrieve all posts from own profile'''\n",
        "        my_posts = []\n",
        "        has_more_posts = True\n",
        "        max_id= ''\n",
        "\n",
        "        while has_more_posts:\n",
        "            self.api.getSelfUserFeed(maxid=max_id)\n",
        "            if self.api.LastJson['more_available'] is not True:\n",
        "                has_more_posts = False #stop condition\n",
        "\n",
        "            max_id = self.api.LastJson.get('next_max_id','')\n",
        "            #release_date = api.LastJson.get()\n",
        "            my_posts.extend(self.api.LastJson['items']) #merge lists\n",
        "            #time.sleep(2) # slows down to avoid flooding\n",
        "\n",
        "            if has_more_posts:\n",
        "                print(str(len(my_posts)) + ' posts retrieved so far...')\n",
        "\n",
        "        print('Total posts retrieved: ' + str(len(my_posts)))\n",
        "        \n",
        "        return my_posts\n",
        "\n",
        "    def get_posts_commenters(self, my_posts):\n",
        "        '''Retrieve all commenters on all posts '''\n",
        "        \n",
        "        commenters = []\n",
        "        \n",
        "        print('wait %.1f minutes' % (len(my_posts)*2/60.))\n",
        "        for i in range(len(my_posts)):\n",
        "            m_id = my_posts[i]['id']\n",
        "            self.api.getMediaComments(m_id)\n",
        "            \n",
        "            commenters += [self.api.LastJson]\n",
        "            \n",
        "            # Include post_id in commenters dict list\n",
        "            commenters[i]['post_id'] = m_id\n",
        "                \n",
        "            #time.sleep(2)\n",
        "        print('done')\n",
        "        \n",
        "        return commenters\n",
        "\n",
        "    def posts_likers_to_df(self, likers):\n",
        "        '''Transforms likers list of dicts into pandas DataFrame'''\n",
        "        \n",
        "        # Normalize likers by getting the 'users' list and the post_id of each like\n",
        "        df_likers = json_normalize(likers, 'users', ['post_id'])\n",
        "        \n",
        "        # Add 'content_type' column to know the rows are likes\n",
        "        df_likers['content_type'] = 'like'\n",
        "        \n",
        "        return df_likers\n",
        "\n",
        "    def posts_commenters_to_df(self, commenters):\n",
        "        '''Transforms commenters list of dicts into pandas DataFrame'''\n",
        "        \n",
        "        # Include username and full_name of commenter in 'comments' list of dicts\n",
        "        for i in range(len(commenters)):\n",
        "            if len(commenters[i]['comments']) > 0: # checks if there is any comment on the post\n",
        "                for j in range(len(commenters[i]['comments'])):\n",
        "                    # Puts username/full_name one level up\n",
        "                    commenters[i]['comments'][j]['username'] = commenters[i]['comments'][j]['user']['username']\n",
        "                    commenters[i]['comments'][j]['full_name'] = commenters[i]['comments'][j]['user']['full_name']\n",
        "                    \n",
        "        # Create DataFrame\n",
        "        # Normalize commenters to have 1 row per comment, and gets 'post_id' from parent \n",
        "        df_commenters = json_normalize(commenters, 'comments', 'post_id')\n",
        "        \n",
        "        # Get rid of 'user' column as we already handled it above\n",
        "        #del df_commenters['user']\n",
        "        \n",
        "        return df_commenters\n",
        "\n",
        "    def unfollow_users(self):\n",
        "        api = self.api\n",
        "        api.login()\n",
        "        api.getSelfUserFollowers()\n",
        "        result = api.LastJson\n",
        "        for user in result['users']:\n",
        "            follower_users.append({'pk':user['pk'], 'username':user['username']})\n",
        "\n",
        "        api.getSelfUsersFollowing()\n",
        "        result = api.LastJson\n",
        "        for user in result['users']:\n",
        "            following_users.append({'pk':user['pk'],'username':user['username']})\n",
        "\n",
        "        for user in following_users:\n",
        "            if not user['pk'] in [user['pk'] for user in follower_users]:\n",
        "                print('Unfollowing @' + user['username'])\n",
        "                api.unfollow(user['pk'])\n",
        "                # set this really long to avoid from suspension\n",
        "                # sleep(20) \n",
        "\n"
      ],
      "execution_count": 0,
      "outputs": []
    },
    {
      "cell_type": "code",
      "metadata": {
        "id": "vVPD92GJcrs9",
        "colab_type": "code",
        "outputId": "5d9144d9-6a2f-4422-aec8-71cff3a8e3f1",
        "colab": {
          "base_uri": "https://localhost:8080/",
          "height": 1000
        }
      },
      "source": [
        "\n",
        "bot =  InstaBot()\n",
        "# To follow users run the function below\n",
        "# change the username ('instagram') to your target username\n",
        "bot.get_likes_list('p1halani')"
      ],
      "execution_count": 0,
      "outputs": [
        {
          "output_type": "stream",
          "text": [
            "Request return 429 error!\n",
            "{'message': 'Please wait a few minutes before you try again.', 'status': 'fail'}\n",
            "Request return 405 error!\n",
            "{'message': '', 'status': 'fail'}\n",
            "Login success!\n",
            "\n",
            "Already following @bhaggu_2509\n",
            "Already following @_dharti28\n",
            "Already following @zineadas\n",
            "Already following @nish_1289\n",
            "Already following @shifa_8299\n",
            "Already following @dungeon_master08\n",
            "Already following @_yell0w.su6marine_\n",
            "Already following @_nancyism_\n",
            "Already following @ana.sarkar11\n",
            "Already following @1011kari\n",
            "Already following @thakkar1548\n",
            "Already following @error_404.0\n",
            "Already following @vashistha.mohit\n",
            "Already following @gayatri.jaiswal18\n",
            "Already following @sujit_ry\n",
            "Already following @bibek.goswami.31\n",
            "Already following @priyankashah1907\n",
            "Already following @suranaritika1\n",
            "Already following @parakhpreksha\n",
            "Already following @neelavdeep10\n",
            "Already following @vajrakrishnam\n",
            "Already following @busi_reddy_karnati\n",
            "Already following @abhirish1\n",
            "Already following @thedeepakkahar\n",
            "Already following @neha_bora0305\n",
            "Already following @pink14_04\n",
            "Already following @akash_dhanesha\n",
            "Already following @umesh_17__\n",
            "Already following @toppoavinash\n",
            "Already following @tejasyeole\n",
            "Already following @_rishu_roshan\n",
            "Already following @nisheethagrawal\n",
            "Already following @chordia_piyush_\n",
            "Already following @annany_a_2509\n",
            "Already following @unnati.vora3\n",
            "Already following @rads.shiva\n",
            "Already following @jainmanann\n",
            "Already following @mr.low_ki\n",
            "Already following @mohan_jobanputra\n",
            "Already following @arjitajaiswal\n",
            "Already following @kapil_ruparelia\n",
            "Already following @dalalprassanna\n",
            "Already following @srushtip2602\n",
            "Already following @sagar.nathwani\n",
            "Following @shivam65kr\n",
            "Already following @rajingale1024\n",
            "Already following @onkarrr____\n",
            "Already following @dhawal.dc\n",
            "Following @shivani.nathani.79\n",
            "Already following @prerit_mehta613\n",
            "Already following @palkeshsaklecha\n",
            "Already following @_nikitatoshniwal_\n",
            "Following @diputhakkar49\n",
            "Already following @pushpak_tay\n",
            "Already following @sneha_339955\n",
            "Following @sahil_predator\n",
            "Already following @jyotijoshi1616\n",
            "Already following @_unnatijain20\n"
          ],
          "name": "stdout"
        }
      ]
    },
    {
      "cell_type": "code",
      "metadata": {
        "id": "jcA9287qgFf9",
        "colab_type": "code",
        "outputId": "b1f47ba8-6189-43c7-b90b-7c985faeda54",
        "colab": {
          "base_uri": "https://localhost:8080/",
          "height": 34
        }
      },
      "source": [
        "my_posts =bot.get_my_posts()"
      ],
      "execution_count": 0,
      "outputs": [
        {
          "output_type": "stream",
          "text": [
            "Total posts retrieved: 8\n"
          ],
          "name": "stdout"
        }
      ]
    },
    {
      "cell_type": "code",
      "metadata": {
        "id": "ixQNVgbdgPZz",
        "colab_type": "code",
        "outputId": "2f5b137a-7b59-4168-b310-d9fe664989cd",
        "colab": {
          "base_uri": "https://localhost:8080/",
          "height": 51
        }
      },
      "source": [
        "likers = bot.get_posts_likers(my_posts)"
      ],
      "execution_count": 0,
      "outputs": [
        {
          "output_type": "stream",
          "text": [
            "wait 0.3 minutes\n",
            "done\n"
          ],
          "name": "stdout"
        }
      ]
    },
    {
      "cell_type": "code",
      "metadata": {
        "id": "Zx-RKr_YgUys",
        "colab_type": "code",
        "outputId": "d6c806de-5c9b-4034-a641-bf73a8ba2990",
        "colab": {
          "base_uri": "https://localhost:8080/",
          "height": 51
        }
      },
      "source": [
        "commenters = bot.get_posts_commenters(my_posts)"
      ],
      "execution_count": 0,
      "outputs": [
        {
          "output_type": "stream",
          "text": [
            "wait 0.3 minutes\n",
            "done\n"
          ],
          "name": "stdout"
        }
      ]
    },
    {
      "cell_type": "code",
      "metadata": {
        "id": "8sPgX_Shgb82",
        "colab_type": "code",
        "colab": {}
      },
      "source": [
        "df_likers = bot.posts_likers_to_df(likers)\n",
        "df_commenters = bot.posts_commenters_to_df(commenters)"
      ],
      "execution_count": 0,
      "outputs": []
    },
    {
      "cell_type": "code",
      "metadata": {
        "id": "PDFPr0a4ghr2",
        "colab_type": "code",
        "outputId": "424dc1ad-a2aa-4816-b76b-146b809f8b09",
        "colab": {
          "base_uri": "https://localhost:8080/",
          "height": 34
        }
      },
      "source": [
        "# created_at\n",
        "print('Total likes on profile: ' + str(df_likers.shape[0])) #shape[0] represents number of rows"
      ],
      "execution_count": 0,
      "outputs": [
        {
          "output_type": "stream",
          "text": [
            "Total likes on profile: 392\n"
          ],
          "name": "stdout"
        }
      ]
    },
    {
      "cell_type": "code",
      "metadata": {
        "id": "gsqpfOsugyV-",
        "colab_type": "code",
        "outputId": "e9a93790-9a95-45a2-8ce8-66b39417a268",
        "colab": {
          "base_uri": "https://localhost:8080/",
          "height": 136
        }
      },
      "source": [
        "print('Total posts: ' + str(len(my_posts)))\n",
        "print('---------')\n",
        "print('Total likes on profile: ' + str(df_likers.shape[0])) #shape[0] represents number of rows\n",
        "print('Distinct users that liked your posts: ' +str(df_likers.username.nunique())) # nunique() will count distinct values of a col\n",
        "print('---------')\n",
        "print('Total comments on profile: ' + str(df_commenters.shape[0]))\n",
        "print('Distinct users that commented your posts: ' +str(df_commenters.username.nunique()))"
      ],
      "execution_count": 0,
      "outputs": [
        {
          "output_type": "stream",
          "text": [
            "Total posts: 8\n",
            "---------\n",
            "Total likes on profile: 392\n",
            "Distinct users that liked your posts: 148\n",
            "---------\n",
            "Total comments on profile: 21\n",
            "Distinct users that commented your posts: 10\n"
          ],
          "name": "stdout"
        }
      ]
    },
    {
      "cell_type": "code",
      "metadata": {
        "id": "BnLr-AdUgy-p",
        "colab_type": "code",
        "outputId": "c871c579-5aee-4d15-b989-76c3217bc84f",
        "colab": {
          "base_uri": "https://localhost:8080/",
          "height": 204
        }
      },
      "source": [
        "# As each row represents a like, we can perform a value_counts on username and slice it to the first 10 items (pandas already order it for us)\n",
        "df_likers.username.value_counts()[:10]"
      ],
      "execution_count": 0,
      "outputs": [
        {
          "output_type": "execute_result",
          "data": {
            "text/plain": [
              "_dharti28            8\n",
              "pushpak_tay          8\n",
              "dungeon_master08     8\n",
              "viralhalani          7\n",
              "palkeshsaklecha      7\n",
              "rajingale1024        6\n",
              "akash_dhanesha       6\n",
              "neha_bora0305        6\n",
              "dhawal.dc            6\n",
              "_nikitatoshniwal_    6\n",
              "Name: username, dtype: int64"
            ]
          },
          "metadata": {
            "tags": []
          },
          "execution_count": 18
        }
      ]
    },
    {
      "cell_type": "code",
      "metadata": {
        "id": "5yck-BePg1lk",
        "colab_type": "code",
        "outputId": "a9086f63-1880-4647-cfe1-18ba03c3b666",
        "colab": {
          "base_uri": "https://localhost:8080/",
          "height": 494
        }
      },
      "source": [
        "df_likers.username.value_counts()[:10].plot(kind='bar', title='Top 10 media likers', grid=True, figsize=(12,6))"
      ],
      "execution_count": 0,
      "outputs": [
        {
          "output_type": "execute_result",
          "data": {
            "text/plain": [
              "<matplotlib.axes._subplots.AxesSubplot at 0x7fdddf102208>"
            ]
          },
          "metadata": {
            "tags": []
          },
          "execution_count": 19
        },
        {
          "output_type": "display_data",
          "data": {
            "image/png": "[encoded data removed]",
            "text/plain": [
              "<Figure size 864x432 with 1 Axes>"
            ]
          },
          "metadata": {
            "tags": []
          }
        }
      ]
    },
    {
      "cell_type": "code",
      "metadata": {
        "id": "__yB1ecbg3sd",
        "colab_type": "code",
        "outputId": "ceaeb9be-e4aa-4db5-d1db-1439c450c582",
        "colab": {
          "base_uri": "https://localhost:8080/",
          "height": 390
        }
      },
      "source": [
        "df_likers.username.value_counts()[:10].plot(kind='pie', title='Top 10 media likers distribution', autopct='%1.1f%%', figsize=(12,6))"
      ],
      "execution_count": 0,
      "outputs": [
        {
          "output_type": "execute_result",
          "data": {
            "text/plain": [
              "<matplotlib.axes._subplots.AxesSubplot at 0x7fdddef50908>"
            ]
          },
          "metadata": {
            "tags": []
          },
          "execution_count": 20
        },
        {
          "output_type": "display_data",
          "data": {
            "image/png": "[encoded data removed]",
            "text/plain": [
              "<Figure size 864x432 with 1 Axes>"
            ]
          },
          "metadata": {
            "tags": []
          }
        }
      ]
    }
  ]
}